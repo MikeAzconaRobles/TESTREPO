{
 "cells": [
  {
   "cell_type": "code",
   "execution_count": 1,
   "id": "e3e63975-533d-4702-a635-c25486e09242",
   "metadata": {},
   "outputs": [],
   "source": [
    "#<h1 style=\"font-size:1rem;color:orange;\"> сука блять!! Mi primer notebook cucarachas Inutiles</h1>"
   ]
  },
  {
   "cell_type": "markdown",
   "id": "de0f2e3e-3c9d-4ae0-b377-2ed99b415f7e",
   "metadata": {},
   "source": [
    "<h1 style=\"font-size:1rem;color:orange;\"> сука блять!! Mi primer notebook</h1>"
   ]
  },
  {
   "cell_type": "code",
   "execution_count": 2,
   "id": "981a18db-a527-407f-9ad5-4e8549d8953f",
   "metadata": {},
   "outputs": [
    {
     "data": {
      "text/plain": [
       "2"
      ]
     },
     "execution_count": 2,
     "metadata": {},
     "output_type": "execute_result"
    }
   ],
   "source": [
    "1+1"
   ]
  },
  {
   "cell_type": "markdown",
   "id": "713a6107-3d34-4adf-ba14-ed92d9da0f07",
   "metadata": {},
   "source": [
    "## output basico"
   ]
  },
  {
   "cell_type": "code",
   "execution_count": 3,
   "id": "10944891-5cb3-4e2c-a7ec-0c3d58737a08",
   "metadata": {
    "tags": []
   },
   "outputs": [
    {
     "name": "stdout",
     "output_type": "stream",
     "text": [
      "Hola cucarachas inutiles\n"
     ]
    }
   ],
   "source": [
    "print(\"Hola cucarachas inutiles\")"
   ]
  },
  {
   "cell_type": "markdown",
   "id": "0956d6bd-88b5-4813-9b03-65780a05de7e",
   "metadata": {
    "tags": []
   },
   "source": [
    "## inserta una variable en un string"
   ]
  },
  {
   "cell_type": "code",
   "execution_count": 4,
   "id": "93ebd9c0-d7a3-440f-b047-3b16f0d8a96d",
   "metadata": {},
   "outputs": [
    {
     "name": "stdin",
     "output_type": "stream",
     "text": [
      "Cómo te llamas humano chulo? Intrepid Mike\n"
     ]
    },
    {
     "name": "stdout",
     "output_type": "stream",
     "text": [
      "hola, Intrepid Mike listo para dominar el mundo!\n"
     ]
    }
   ],
   "source": [
    "persona= input(\"Cómo te llamas humano chulo?\")\n",
    "mensaje =\"hola, {} listo para dominar el mundo!\".format(persona)\n",
    "print(mensaje)"
   ]
  },
  {
   "cell_type": "markdown",
   "id": "f361c18d-90c2-4f01-bbb2-9439bad2efd1",
   "metadata": {},
   "source": [
    "## strings de multilinea y extensión de string"
   ]
  },
  {
   "cell_type": "code",
   "execution_count": 9,
   "id": "af2a9ab7-d78b-4ffe-8f80-2072a71e22ce",
   "metadata": {},
   "outputs": [
    {
     "name": "stdout",
     "output_type": "stream",
     "text": [
      "habia una vez un oso hippie que comia pizza del costco\n",
      "54\n"
     ]
    }
   ],
   "source": [
    "story = \"habia una vez un oso hippie que comia pizza del costco\"\n",
    "print (story)\n",
    "print(len(story))"
   ]
  },
  {
   "cell_type": "markdown",
   "id": "6970f7f2-df51-4216-b7f1-aa57ce677731",
   "metadata": {},
   "source": [
    "## operaciones matematicas"
   ]
  },
  {
   "cell_type": "code",
   "execution_count": 6,
   "id": "023c381a-4119-46b7-98c2-88103bf689f0",
   "metadata": {},
   "outputs": [
    {
     "name": "stdout",
     "output_type": "stream",
     "text": [
      "3.846153846153846\n",
      "1.9999999999999996\n"
     ]
    }
   ],
   "source": [
    "x=5\n",
    "y=2.6\n",
    "z=(x*2)/y\n",
    "m=(x*3)%y #modulo regresa el residuo\n",
    "print(z)\n",
    "print(m)"
   ]
  },
  {
   "cell_type": "markdown",
   "id": "1747b2ca-14d0-49c5-be7f-789b0c3aa1dd",
   "metadata": {},
   "source": [
    "## listas (arrays)"
   ]
  },
  {
   "cell_type": "code",
   "execution_count": 7,
   "id": "2fff716e-2ca9-4ef4-923f-14c7cd5f4580",
   "metadata": {},
   "outputs": [
    {
     "name": "stdout",
     "output_type": "stream",
     "text": [
      "melisauria\n"
     ]
    }
   ],
   "source": [
    "amigos=[\"cesar\", \"mario\", \"melisauria\", \"el cucho\"]\n",
    "print(amigos[2])"
   ]
  },
  {
   "cell_type": "code",
   "execution_count": null,
   "id": "bb0c3156-7ee6-489b-af3a-711e3e62bb67",
   "metadata": {},
   "outputs": [],
   "source": []
  }
 ],
 "metadata": {
  "kernelspec": {
   "display_name": "anaconda-2022.05-py39",
   "language": "python",
   "name": "conda-env-anaconda-2022.05-py39-py"
  },
  "language_info": {
   "codemirror_mode": {
    "name": "ipython",
    "version": 3
   },
   "file_extension": ".py",
   "mimetype": "text/x-python",
   "name": "python",
   "nbconvert_exporter": "python",
   "pygments_lexer": "ipython3",
   "version": "3.9.12"
  }
 },
 "nbformat": 4,
 "nbformat_minor": 5
}
